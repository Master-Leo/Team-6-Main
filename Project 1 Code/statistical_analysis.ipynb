{
 "cells": [
  {
   "cell_type": "code",
   "execution_count": 37,
   "metadata": {},
   "outputs": [],
   "source": [
    "import matplotlib.pyplot as plt\n",
    "import pandas as pd\n",
    "import numpy as np\n",
    "import requests\n",
    "import time\n",
    "from scipy.stats import linregress\n",
    "import scipy.stats as st"
   ]
  },
  {
   "cell_type": "code",
   "execution_count": 38,
   "metadata": {},
   "outputs": [
    {
     "data": {
      "text/html": [
       "<div>\n",
       "<style scoped>\n",
       "    .dataframe tbody tr th:only-of-type {\n",
       "        vertical-align: middle;\n",
       "    }\n",
       "\n",
       "    .dataframe tbody tr th {\n",
       "        vertical-align: top;\n",
       "    }\n",
       "\n",
       "    .dataframe thead th {\n",
       "        text-align: right;\n",
       "    }\n",
       "</style>\n",
       "<table border=\"1\" class=\"dataframe\">\n",
       "  <thead>\n",
       "    <tr style=\"text-align: right;\">\n",
       "      <th></th>\n",
       "      <th>Date</th>\n",
       "      <th>Oil Price</th>\n",
       "      <th>cpi_all_items</th>\n",
       "      <th>cpi_all_items_minus</th>\n",
       "      <th>cpi_food</th>\n",
       "      <th>cpi_energy</th>\n",
       "      <th>cpi_gas</th>\n",
       "      <th>total_mfg_ind</th>\n",
       "      <th>petrol_grease_mfg</th>\n",
       "      <th>ind_gas_mfg</th>\n",
       "      <th>oil_gas_machine_equip_mfg</th>\n",
       "      <th>supermarkets_grocery_stores</th>\n",
       "      <th>truck_transp</th>\n",
       "    </tr>\n",
       "  </thead>\n",
       "  <tbody>\n",
       "    <tr>\n",
       "      <th>0</th>\n",
       "      <td>01/01/12</td>\n",
       "      <td>113.06</td>\n",
       "      <td>226.67</td>\n",
       "      <td>227.24</td>\n",
       "      <td>232.67</td>\n",
       "      <td>236.94</td>\n",
       "      <td>290.76</td>\n",
       "      <td>191.10</td>\n",
       "      <td>450.40</td>\n",
       "      <td>134.70</td>\n",
       "      <td>234.10</td>\n",
       "      <td>161.70</td>\n",
       "      <td>128.70</td>\n",
       "    </tr>\n",
       "    <tr>\n",
       "      <th>1</th>\n",
       "      <td>02/01/12</td>\n",
       "      <td>122.66</td>\n",
       "      <td>227.66</td>\n",
       "      <td>227.87</td>\n",
       "      <td>232.49</td>\n",
       "      <td>242.66</td>\n",
       "      <td>305.08</td>\n",
       "      <td>192.10</td>\n",
       "      <td>447.60</td>\n",
       "      <td>134.90</td>\n",
       "      <td>235.70</td>\n",
       "      <td>164.20</td>\n",
       "      <td>129.10</td>\n",
       "    </tr>\n",
       "    <tr>\n",
       "      <th>2</th>\n",
       "      <td>03/01/12</td>\n",
       "      <td>122.88</td>\n",
       "      <td>229.39</td>\n",
       "      <td>228.74</td>\n",
       "      <td>232.79</td>\n",
       "      <td>253.60</td>\n",
       "      <td>329.78</td>\n",
       "      <td>194.30</td>\n",
       "      <td>450.00</td>\n",
       "      <td>134.90</td>\n",
       "      <td>234.40</td>\n",
       "      <td>164.00</td>\n",
       "      <td>130.50</td>\n",
       "    </tr>\n",
       "    <tr>\n",
       "      <th>3</th>\n",
       "      <td>04/01/12</td>\n",
       "      <td>123.43</td>\n",
       "      <td>230.09</td>\n",
       "      <td>229.30</td>\n",
       "      <td>233.23</td>\n",
       "      <td>255.74</td>\n",
       "      <td>335.74</td>\n",
       "      <td>194.70</td>\n",
       "      <td>450.40</td>\n",
       "      <td>136.70</td>\n",
       "      <td>234.80</td>\n",
       "      <td>163.60</td>\n",
       "      <td>130.90</td>\n",
       "    </tr>\n",
       "    <tr>\n",
       "      <th>4</th>\n",
       "      <td>05/01/12</td>\n",
       "      <td>101.87</td>\n",
       "      <td>229.82</td>\n",
       "      <td>229.60</td>\n",
       "      <td>233.34</td>\n",
       "      <td>250.31</td>\n",
       "      <td>323.60</td>\n",
       "      <td>193.60</td>\n",
       "      <td>449.50</td>\n",
       "      <td>133.80</td>\n",
       "      <td>234.60</td>\n",
       "      <td>165.60</td>\n",
       "      <td>130.80</td>\n",
       "    </tr>\n",
       "    <tr>\n",
       "      <th>...</th>\n",
       "      <td>...</td>\n",
       "      <td>...</td>\n",
       "      <td>...</td>\n",
       "      <td>...</td>\n",
       "      <td>...</td>\n",
       "      <td>...</td>\n",
       "      <td>...</td>\n",
       "      <td>...</td>\n",
       "      <td>...</td>\n",
       "      <td>...</td>\n",
       "      <td>...</td>\n",
       "      <td>...</td>\n",
       "      <td>...</td>\n",
       "    </tr>\n",
       "    <tr>\n",
       "      <th>122</th>\n",
       "      <td>03/01/22</td>\n",
       "      <td>107.91</td>\n",
       "      <td>287.50</td>\n",
       "      <td>289.31</td>\n",
       "      <td>295.73</td>\n",
       "      <td>298.25</td>\n",
       "      <td>366.50</td>\n",
       "      <td>245.40</td>\n",
       "      <td>541.18</td>\n",
       "      <td>230.89</td>\n",
       "      <td>294.22</td>\n",
       "      <td>231.11</td>\n",
       "      <td>198.15</td>\n",
       "    </tr>\n",
       "    <tr>\n",
       "      <th>123</th>\n",
       "      <td>04/01/22</td>\n",
       "      <td>109.34</td>\n",
       "      <td>289.11</td>\n",
       "      <td>290.85</td>\n",
       "      <td>298.71</td>\n",
       "      <td>298.47</td>\n",
       "      <td>362.80</td>\n",
       "      <td>249.83</td>\n",
       "      <td>566.07</td>\n",
       "      <td>231.24</td>\n",
       "      <td>302.83</td>\n",
       "      <td>234.69</td>\n",
       "      <td>200.87</td>\n",
       "    </tr>\n",
       "    <tr>\n",
       "      <th>124</th>\n",
       "      <td>05/01/22</td>\n",
       "      <td>114.81</td>\n",
       "      <td>292.30</td>\n",
       "      <td>292.51</td>\n",
       "      <td>302.04</td>\n",
       "      <td>316.76</td>\n",
       "      <td>391.26</td>\n",
       "      <td>256.58</td>\n",
       "      <td>565.31</td>\n",
       "      <td>234.72</td>\n",
       "      <td>304.70</td>\n",
       "      <td>238.95</td>\n",
       "      <td>203.87</td>\n",
       "    </tr>\n",
       "    <tr>\n",
       "      <th>125</th>\n",
       "      <td>06/01/22</td>\n",
       "      <td>110.01</td>\n",
       "      <td>296.31</td>\n",
       "      <td>294.68</td>\n",
       "      <td>305.04</td>\n",
       "      <td>340.92</td>\n",
       "      <td>430.14</td>\n",
       "      <td>262.83</td>\n",
       "      <td>595.44</td>\n",
       "      <td>236.33</td>\n",
       "      <td>306.22</td>\n",
       "      <td>247.04</td>\n",
       "      <td>202.80</td>\n",
       "    </tr>\n",
       "    <tr>\n",
       "      <th>126</th>\n",
       "      <td>07/01/22</td>\n",
       "      <td>96.48</td>\n",
       "      <td>296.28</td>\n",
       "      <td>295.65</td>\n",
       "      <td>308.53</td>\n",
       "      <td>325.41</td>\n",
       "      <td>396.95</td>\n",
       "      <td>257.55</td>\n",
       "      <td>612.90</td>\n",
       "      <td>236.43</td>\n",
       "      <td>308.31</td>\n",
       "      <td>244.30</td>\n",
       "      <td>201.89</td>\n",
       "    </tr>\n",
       "  </tbody>\n",
       "</table>\n",
       "<p>127 rows × 13 columns</p>\n",
       "</div>"
      ],
      "text/plain": [
       "         Date  Oil Price  cpi_all_items  cpi_all_items_minus  cpi_food  \\\n",
       "0    01/01/12     113.06         226.67               227.24    232.67   \n",
       "1    02/01/12     122.66         227.66               227.87    232.49   \n",
       "2    03/01/12     122.88         229.39               228.74    232.79   \n",
       "3    04/01/12     123.43         230.09               229.30    233.23   \n",
       "4    05/01/12     101.87         229.82               229.60    233.34   \n",
       "..        ...        ...            ...                  ...       ...   \n",
       "122  03/01/22     107.91         287.50               289.31    295.73   \n",
       "123  04/01/22     109.34         289.11               290.85    298.71   \n",
       "124  05/01/22     114.81         292.30               292.51    302.04   \n",
       "125  06/01/22     110.01         296.31               294.68    305.04   \n",
       "126  07/01/22      96.48         296.28               295.65    308.53   \n",
       "\n",
       "     cpi_energy  cpi_gas  total_mfg_ind  petrol_grease_mfg  ind_gas_mfg  \\\n",
       "0        236.94   290.76         191.10             450.40       134.70   \n",
       "1        242.66   305.08         192.10             447.60       134.90   \n",
       "2        253.60   329.78         194.30             450.00       134.90   \n",
       "3        255.74   335.74         194.70             450.40       136.70   \n",
       "4        250.31   323.60         193.60             449.50       133.80   \n",
       "..          ...      ...            ...                ...          ...   \n",
       "122      298.25   366.50         245.40             541.18       230.89   \n",
       "123      298.47   362.80         249.83             566.07       231.24   \n",
       "124      316.76   391.26         256.58             565.31       234.72   \n",
       "125      340.92   430.14         262.83             595.44       236.33   \n",
       "126      325.41   396.95         257.55             612.90       236.43   \n",
       "\n",
       "     oil_gas_machine_equip_mfg  supermarkets_grocery_stores  truck_transp  \n",
       "0                       234.10                       161.70        128.70  \n",
       "1                       235.70                       164.20        129.10  \n",
       "2                       234.40                       164.00        130.50  \n",
       "3                       234.80                       163.60        130.90  \n",
       "4                       234.60                       165.60        130.80  \n",
       "..                         ...                          ...           ...  \n",
       "122                     294.22                       231.11        198.15  \n",
       "123                     302.83                       234.69        200.87  \n",
       "124                     304.70                       238.95        203.87  \n",
       "125                     306.22                       247.04        202.80  \n",
       "126                     308.31                       244.30        201.89  \n",
       "\n",
       "[127 rows x 13 columns]"
      ]
     },
     "execution_count": 38,
     "metadata": {},
     "output_type": "execute_result"
    }
   ],
   "source": [
    "#Load the CSV path \n",
    "path = \"../Project 1 Code/Raw Data/converted_data.csv\"\n",
    "\n",
    "#Read CSV file\n",
    "inflation_df = pd.read_csv(path)\n",
    "\n",
    "inflation_df"
   ]
  },
  {
   "cell_type": "code",
   "execution_count": 39,
   "metadata": {},
   "outputs": [
    {
     "data": {
      "text/plain": [
       "Date                            object\n",
       "Oil Price                      float64\n",
       "cpi_all_items                  float64\n",
       "cpi_all_items_minus            float64\n",
       "cpi_food                       float64\n",
       "cpi_energy                     float64\n",
       "cpi_gas                        float64\n",
       "total_mfg_ind                  float64\n",
       "petrol_grease_mfg              float64\n",
       "ind_gas_mfg                    float64\n",
       "oil_gas_machine_equip_mfg      float64\n",
       "supermarkets_grocery_stores    float64\n",
       "truck_transp                   float64\n",
       "dtype: object"
      ]
     },
     "execution_count": 39,
     "metadata": {},
     "output_type": "execute_result"
    }
   ],
   "source": [
    "inflation_df.dtypes"
   ]
  },
  {
   "cell_type": "code",
   "execution_count": 40,
   "metadata": {},
   "outputs": [
    {
     "data": {
      "text/plain": [
       "count    127.000000\n",
       "mean      74.050315\n",
       "std       26.051349\n",
       "min       25.270000\n",
       "25%       52.515000\n",
       "50%       66.600000\n",
       "75%      102.015000\n",
       "max      123.430000\n",
       "Name: Oil Price, dtype: float64"
      ]
     },
     "execution_count": 40,
     "metadata": {},
     "output_type": "execute_result"
    }
   ],
   "source": [
    "inflation_df[\"Oil Price\"].describe()\n"
   ]
  },
  {
   "cell_type": "code",
   "execution_count": 41,
   "metadata": {},
   "outputs": [
    {
     "data": {
      "text/plain": [
       "count    127.000000\n",
       "mean     248.205906\n",
       "std       15.939371\n",
       "min      226.670000\n",
       "25%      236.410000\n",
       "50%      244.520000\n",
       "75%      256.865000\n",
       "max      296.310000\n",
       "Name: cpi_all_items, dtype: float64"
      ]
     },
     "execution_count": 41,
     "metadata": {},
     "output_type": "execute_result"
    }
   ],
   "source": [
    "inflation_df[\"cpi_all_items\"].describe()"
   ]
  },
  {
   "cell_type": "code",
   "execution_count": 44,
   "metadata": {},
   "outputs": [
    {
     "name": "stdout",
     "output_type": "stream",
     "text": [
      "The r-square is: 0.023566620248677658\n",
      "The correlation between both factors is -0.15\n"
     ]
    },
    {
     "data": {
      "image/png": "[encoded data removed]",
      "text/plain": [
       "<Figure size 720x720 with 1 Axes>"
      ]
     },
     "metadata": {
      "needs_background": "light"
     },
     "output_type": "display_data"
    }
   ],
   "source": [
    "#Scatter graph Oil Prices vs CPI All Items with Linear Regression \n",
    "x_values = inflation_df[\"Oil Price\"]\n",
    "y_values = inflation_df[\"cpi_all_items\"]\n",
    "\n",
    "(slope, intercept, rvalue, pvalue, stderr) = linregress(x_values,y_values)\n",
    "regress_values = x_values * slope + intercept \n",
    "line_eq = \"y= \" + str(round(slope,2)) + \"x + \" + str(round(intercept,2))\n",
    "\n",
    "fig1, ax1 = plt.subplots(figsize = (10,10))\n",
    "plt.scatter(x_values,y_values)\n",
    "plt.plot(x_values, regress_values,\"r-\")\n",
    "\n",
    "plt.annotate(line_eq,(20,10),fontsize=15,color=\"red\")\n",
    "\n",
    "plt.title(\"Oil Price in the past decade vs. CPI in the past decade\")\n",
    "plt.xlabel(\"Oil Prices over 10 years\")\n",
    "plt.ylabel(\"CPI All items over 10 years\")\n",
    "plt.grid()\n",
    "\n",
    "print(f\"The r-square is: {rvalue**2}\")\n",
    "correlation = st.pearsonr(x_values,y_values)\n",
    "print(f\"The correlation between both factors is {round(correlation[0],2)}\")\n",
    "\n",
    "plt.savefig(\"../Project 1 Code/Images/oil_cpi_scatter.png\")\n",
    "plt.show()\n"
   ]
  },
  {
   "cell_type": "code",
   "execution_count": 46,
   "metadata": {},
   "outputs": [
    {
     "name": "stdout",
     "output_type": "stream",
     "text": [
      "The r-square is: 0.6768492319042659\n",
      "The correlation between both factors is 0.82\n"
     ]
    },
    {
     "data": {
      "image/png": "[encoded data removed]",
      "text/plain": [
       "<Figure size 720x720 with 1 Axes>"
      ]
     },
     "metadata": {
      "needs_background": "light"
     },
     "output_type": "display_data"
    }
   ],
   "source": [
    "#Scatter graph Oil Prices vs CPI All Items with Linear Regression \n",
    "x_values = inflation_df[\"Oil Price\"]\n",
    "y_values = inflation_df[\"cpi_energy\"]\n",
    "\n",
    "(slope, intercept, rvalue, pvalue, stderr) = linregress(x_values,y_values)\n",
    "regress_values = x_values * slope + intercept \n",
    "line_eq = \"y= \" + str(round(slope,2)) + \"x + \" + str(round(intercept,2))\n",
    "\n",
    "fig1, ax1 = plt.subplots(figsize = (10,10))\n",
    "plt.scatter(x_values,y_values)\n",
    "plt.plot(x_values, regress_values,\"r-\")\n",
    "\n",
    "plt.annotate(line_eq,(20,10),fontsize=15,color=\"red\")\n",
    "\n",
    "plt.title(\"Oil Price in the past decade vs. CPI in the past decade\")\n",
    "plt.xlabel(\"Oil Prices over 10 years\")\n",
    "plt.ylabel(\"CPI of Energy sector over 10 years\")\n",
    "plt.grid()\n",
    "\n",
    "print(f\"The r-square is: {rvalue**2}\")\n",
    "correlation = st.pearsonr(x_values,y_values)\n",
    "print(f\"The correlation between both factors is {round(correlation[0],2)}\")\n",
    "\n",
    "plt.savefig(\"../Project 1 Code/Images/oil_energy_scatter.png\")\n",
    "plt.show()"
   ]
  },
  {
   "cell_type": "code",
   "execution_count": 47,
   "metadata": {},
   "outputs": [
    {
     "name": "stdout",
     "output_type": "stream",
     "text": [
      "The r-square is: 0.04545003522882112\n",
      "The correlation between both factors is -0.21\n"
     ]
    },
    {
     "data": {
      "image/png": "[encoded data removed]",
      "text/plain": [
       "<Figure size 720x720 with 1 Axes>"
      ]
     },
     "metadata": {
      "needs_background": "light"
     },
     "output_type": "display_data"
    }
   ],
   "source": [
    "#Scatter graph Oil Prices vs CPI All Items with Linear Reression \n",
    "x_values = inflation_df[\"Oil Price\"]\n",
    "y_values = inflation_df[\"cpi_food\"]\n",
    "\n",
    "(slope, intercept, rvalue, pvalue, stderr) = linregress(x_values,y_values)\n",
    "regress_values = x_values * slope + intercept \n",
    "line_eq = \"y= \" + str(round(slope,2)) + \"x + \" + str(round(intercept,2))\n",
    "\n",
    "fig1, ax1 = plt.subplots(figsize = (10,10))\n",
    "plt.scatter(x_values,y_values)\n",
    "plt.plot(x_values, regress_values,\"r-\")\n",
    "\n",
    "plt.annotate(line_eq,(20,10),fontsize=15,color=\"red\")\n",
    "\n",
    "plt.title(\"Oil Price in the past decade vs. CPI in the past decade\")\n",
    "plt.xlabel(\"Oil Prices over 10 years\")\n",
    "plt.ylabel(\"CPI of Food sector over 10 years\")\n",
    "plt.grid()\n",
    "\n",
    "print(f\"The r-square is: {rvalue**2}\")\n",
    "correlation = st.pearsonr(x_values,y_values)\n",
    "print(f\"The correlation between both factors is {round(correlation[0],2)}\")\n",
    "\n",
    "plt.savefig(\"../Project 1 Code/Images/oil_food_scatter.png\")\n",
    "plt.show()"
   ]
  },
  {
   "cell_type": "code",
   "execution_count": null,
   "metadata": {},
   "outputs": [],
   "source": [
    "#Scatter graph Oil Prices vs CPI All Items with Linear Reression \n",
    "x_values = inflation_df[\"Oil Price\"]\n",
    "y_values = inflation_df[\"cpi_gas\"]\n",
    "\n",
    "(slope, intercept, rvalue, pvalue, stderr) = linregress(x_values,y_values)\n",
    "regress_values = x_values * slope + intercept \n",
    "line_eq = \"y= \" + str(round(slope,2)) + \"x + \" + str(round(intercept,2))\n",
    "\n",
    "fig1, ax1 = plt.subplots(figsize = (10,10))\n",
    "plt.scatter(x_values,y_values)\n",
    "plt.plot(x_values, regress_values,\"r-\")\n",
    "\n",
    "plt.annotate(line_eq,(20,10),fontsize=15,color=\"red\")\n",
    "\n",
    "plt.title(\"Oil Price in the past decade vs. CPI in the past decade\")\n",
    "plt.xlabel(\"Oil Prices over 10 years\")\n",
    "plt.ylabel(\"CPI of Gas sector over 10 years\")\n",
    "plt.grid()\n",
    "\n",
    "print(f\"The r-square is: {rvalue**2}\")\n",
    "correlation = st.pearsonr(x_values,y_values)\n",
    "print(f\"The correlation between both factors is {round(correlation[0],2)}\")\n",
    "\n",
    "plt.savefig(\"../Project 1 Code/Images/oil_gas_scatter.png\")\n",
    "plt.show()"
   ]
  }
 ],
 "metadata": {
  "kernelspec": {
   "display_name": "Python 3.9.12 ('base')",
   "language": "python",
   "name": "python3"
  },
  "language_info": {
   "codemirror_mode": {
    "name": "ipython",
    "version": 3
   },
   "file_extension": ".py",
   "mimetype": "text/x-python",
   "name": "python",
   "nbconvert_exporter": "python",
   "pygments_lexer": "ipython3",
   "version": "3.9.12"
  },
  "orig_nbformat": 4,
  "vscode": {
   "interpreter": {
    "hash": "aea3586fa6990ac190289595ab990eef45803da6fa4c3d19da3f2714bb971529"
   }
  }
 },
 "nbformat": 4,
 "nbformat_minor": 2
}
